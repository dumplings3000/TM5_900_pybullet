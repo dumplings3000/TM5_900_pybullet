{
 "cells": [
  {
   "cell_type": "code",
   "execution_count": null,
   "id": "5b5371fa",
   "metadata": {
    "scrolled": true
   },
   "outputs": [],
   "source": [
    "import pybullet as p\n",
    "import numpy as np\n",
    "import json\n",
    "import open3d as o3d\n",
    "import matplotlib.pyplot as plt\n",
    "from mpl_toolkits.mplot3d import Axes3D\n",
    "import sys\n",
    "\n",
    "sys.path.append(\"../\")\n",
    "from env.ycb_scene import SimulatedYCBEnv\n",
    "from utils.utils import *\n",
    "from utils.planner import GraspPlanner"
   ]
  },
  {
   "cell_type": "code",
   "execution_count": null,
   "id": "3cb94237",
   "metadata": {},
   "outputs": [],
   "source": [
    "'''\n",
    "get data file name in json file and load mesh in pybullet\n",
    "then reset robot and object position\n",
    "'''\n",
    "\n",
    "file = os.path.join(\"../object_index\", 'ycb_large.json')\n",
    "with open(file) as f: file_dir = json.load(f)\n",
    "file_dir = file_dir['test']\n",
    "file_dir = [f[:-5] for f in file_dir]\n",
    "test_file_dir = list(set(file_dir))\n",
    "\n",
    "env = SimulatedYCBEnv()\n",
    "env._load_index_objs(test_file_dir)\n",
    "state = env.reset(save=False, enforce_face_target=True)"
   ]
  },
  {
   "cell_type": "markdown",
   "id": "fc5d24ba",
   "metadata": {},
   "source": [
    "## Get robot status by API in env"
   ]
  },
  {
   "cell_type": "code",
   "execution_count": null,
   "id": "13300311",
   "metadata": {},
   "outputs": [],
   "source": [
    "# Reset joint position\n",
    "env._panda.reset()\n",
    "\n",
    "# Get current status of end effector, specify \"mat\" argument to switch data expression\n",
    "robot_pos = env._get_ef_pose()\n",
    "robot_pos_mat = env._get_ef_pose(mat=True)\n",
    "print(f\"Position with quaternions:\\n {robot_pos}\\nPosition with SE(3) matrix:\\n {robot_pos_mat}\")"
   ]
  },
  {
   "cell_type": "markdown",
   "id": "774ce06d",
   "metadata": {},
   "source": [
    "## Apply OMPL path planner with pre-define grasp pose"
   ]
  },
  {
   "cell_type": "code",
   "execution_count": 4,
   "id": "5bf02cd6",
   "metadata": {},
   "outputs": [],
   "source": [
    "planner = GraspPlanner()"
   ]
  },
  {
   "cell_type": "code",
   "execution_count": 5,
   "id": "3ee29019",
   "metadata": {},
   "outputs": [],
   "source": [
    "def expert_plan(goal_pose, world=False, visual=False):\n",
    "    if world:\n",
    "        pos, orn = env._get_ef_pose()\n",
    "        ef_pose_list = [*pos, *orn]\n",
    "    else:\n",
    "        ef_pose_list = [0, 0, 0, 0, 0, 0, 1]\n",
    "    goal_pos = [*goal_pose[:3], *ros_quat(goal_pose[3:])]\n",
    "\n",
    "    solver = planner.plan(ef_pose_list, goal_pos)\n",
    "    if visual:\n",
    "        path_visulization(solver)\n",
    "    path = solver.getSolutionPath().getStates()\n",
    "    planer_path = []\n",
    "    for i in range(len(path)):\n",
    "        waypoint = path[i]\n",
    "        rot = waypoint.rotation()\n",
    "        action = [waypoint.getX(), waypoint.getY(), waypoint.getZ(), rot.w, rot.x, rot.y, rot.z]\n",
    "        planer_path.append(action)\n",
    "\n",
    "    return planer_path"
   ]
  },
  {
   "cell_type": "code",
   "execution_count": 6,
   "id": "b1ea51f6",
   "metadata": {},
   "outputs": [],
   "source": [
    "def path_visulization(ss):\n",
    "    fig = plt.figure()\n",
    "    ax = plt.axes(projection='3d')\n",
    "    x = []\n",
    "    y = []\n",
    "    z = []\n",
    "    for i in range(len(ss.getSolutionPath().getStates())):\n",
    "        state = ss.getSolutionPath().getStates()[i]\n",
    "        x.append(state.getX())\n",
    "        y.append(state.getY())\n",
    "        z.append(state.getZ())\n",
    "    ax.plot(x, y, z, color='gray', label='Curve')\n",
    "\n",
    "    ax.scatter(x, y, z, c=z, cmap='jet', label='Points')\n",
    "    plt.show()"
   ]
  },
  {
   "cell_type": "markdown",
   "id": "df800634",
   "metadata": {},
   "source": [
    "### Set a pre-define coordinate relative to world/ef frame"
   ]
  },
  {
   "cell_type": "code",
   "execution_count": null,
   "id": "2d4efae4",
   "metadata": {},
   "outputs": [],
   "source": [
    "env._panda.reset()\n",
    "\n",
    "# A position in SE(3) relative to camera frame\n",
    "desired_pt = np.array([[ 0.85913459, 0.50408285, 0.08825102, -0.09968021],\n",
    "                      [-0.43048553, 0.61863272, 0.65724863, -0.13205695],\n",
    "                      [ 0.27671279, -0.60265582, 0.74848914, 0.41399397],\n",
    "                      [ 0. , 0. , 0. , 1. ]])\n",
    "\n",
    "# Convert SE(3) to postion with quaternions [x, y, z, w, x, y, z]\n",
    "target = pack_pose(desired_pt)\n",
    "\n",
    "# Transform position from camera frame to flange\n",
    "action = env.transform_pose_from_camera(target)\n",
    "# SE(3) matrix relative to world frame\n",
    "action_world = env._get_ef_pose(mat=True).dot(unpack_pose(action))\n",
    "\n",
    "print(f\"world frame:\\n {action_world}\\nrelative to ef: \\n {action}\")"
   ]
  },
  {
   "cell_type": "markdown",
   "id": "1006cdd2",
   "metadata": {},
   "source": [
    "### Plan with position relative to end effector frame"
   ]
  },
  {
   "cell_type": "code",
   "execution_count": null,
   "id": "5c84dd88",
   "metadata": {
    "scrolled": true
   },
   "outputs": [],
   "source": [
    "env._panda.reset()\n",
    "\n",
    "# Get path list by GraspPlanner\n",
    "plan = expert_plan(action)\n",
    "# Get ef pose at beginning as initial pose\n",
    "init_pos = env._get_ef_pose(mat=True)\n",
    "for i in range(len(plan)):\n",
    "    # Get current ef pose\n",
    "    ef_pos = env._get_ef_pose(mat=True)\n",
    "    # Transform path waypoint from initial pose based to current pose based\n",
    "    next_pos_mat = np.dot(se3_inverse(ef_pos), init_pos.dot(unpack_pose(plan[i])))\n",
    "    next_pos = pack_pose(next_pos_mat)\n",
    "    env.step([*next_pos[:3], *quat2euler(next_pos[3:])], repeat=200)"
   ]
  },
  {
   "cell_type": "markdown",
   "id": "382620af",
   "metadata": {},
   "source": [
    "### Plan with position relative to world frame"
   ]
  },
  {
   "cell_type": "code",
   "execution_count": null,
   "id": "bca988e1",
   "metadata": {},
   "outputs": [],
   "source": [
    "env._panda.reset()\n",
    "# Get path list by GraspPlanner\n",
    "plan = expert_plan(pack_pose(action_world), world=True, visual=True)\n",
    "for i in range(len(plan)):\n",
    "    # Set Target position with world frame based coordinate\n",
    "    next_pos = plan[i]\n",
    "    jointPoses = env._panda.solveInverseKinematics(next_pos[:3], ros_quat(next_pos[3:]))\n",
    "    jointPoses[6] = 0\n",
    "    jointPoses = jointPoses[:7].copy()\n",
    "    obs = env.step(jointPoses, config=True, repeat=200)[0]"
   ]
  }
 ],
 "metadata": {
  "kernelspec": {
   "display_name": "Python 3 (ipykernel)",
   "language": "python",
   "name": "python3"
  },
  "language_info": {
   "codemirror_mode": {
    "name": "ipython",
    "version": 3
   },
   "file_extension": ".py",
   "mimetype": "text/x-python",
   "name": "python",
   "nbconvert_exporter": "python",
   "pygments_lexer": "ipython3",
   "version": "3.8.10"
  }
 },
 "nbformat": 4,
 "nbformat_minor": 5
}
