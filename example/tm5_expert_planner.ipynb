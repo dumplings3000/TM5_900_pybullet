{
 "cells": [
  {
   "cell_type": "code",
   "execution_count": 1,
   "id": "5b5371fa",
   "metadata": {
    "scrolled": true
   },
   "outputs": [
    {
     "name": "stderr",
     "output_type": "stream",
     "text": [
      "pybullet build time: Nov 28 2023 23:51:11\n"
     ]
    },
    {
     "name": "stdout",
     "output_type": "stream",
     "text": [
      "Jupyter environment detected. Enabling Open3D WebVisualizer.\n",
      "[Open3D INFO] WebRTC GUI backend enabled.\n",
      "[Open3D INFO] WebRTCWindowSystem: HTTP handshake server disabled.\n"
     ]
    },
    {
     "ename": "ModuleNotFoundError",
     "evalue": "No module named 'ompl.base._base'",
     "output_type": "error",
     "traceback": [
      "\u001b[0;31m---------------------------------------------------------------------------\u001b[0m",
      "\u001b[0;31mModuleNotFoundError\u001b[0m                       Traceback (most recent call last)",
      "Cell \u001b[0;32mIn[1], line 12\u001b[0m\n\u001b[1;32m     10\u001b[0m \u001b[38;5;28;01mfrom\u001b[39;00m \u001b[38;5;21;01menv\u001b[39;00m\u001b[38;5;21;01m.\u001b[39;00m\u001b[38;5;21;01mycb_scene\u001b[39;00m \u001b[38;5;28;01mimport\u001b[39;00m SimulatedYCBEnv\n\u001b[1;32m     11\u001b[0m \u001b[38;5;28;01mfrom\u001b[39;00m \u001b[38;5;21;01mutils\u001b[39;00m\u001b[38;5;21;01m.\u001b[39;00m\u001b[38;5;21;01mutils\u001b[39;00m \u001b[38;5;28;01mimport\u001b[39;00m \u001b[38;5;241m*\u001b[39m\n\u001b[0;32m---> 12\u001b[0m \u001b[38;5;28;01mfrom\u001b[39;00m \u001b[38;5;21;01mutils\u001b[39;00m\u001b[38;5;21;01m.\u001b[39;00m\u001b[38;5;21;01mplanner\u001b[39;00m \u001b[38;5;28;01mimport\u001b[39;00m GraspPlanner\n",
      "File \u001b[0;32m~/TM5_900_pybullet/example/../utils/planner.py:2\u001b[0m\n\u001b[1;32m      1\u001b[0m \u001b[38;5;28;01mfrom\u001b[39;00m \u001b[38;5;21;01mompl\u001b[39;00m \u001b[38;5;28;01mimport\u001b[39;00m util \u001b[38;5;28;01mas\u001b[39;00m ou\n\u001b[0;32m----> 2\u001b[0m \u001b[38;5;28;01mfrom\u001b[39;00m \u001b[38;5;21;01mompl\u001b[39;00m \u001b[38;5;28;01mimport\u001b[39;00m base \u001b[38;5;28;01mas\u001b[39;00m ob\n\u001b[1;32m      3\u001b[0m \u001b[38;5;28;01mfrom\u001b[39;00m \u001b[38;5;21;01mompl\u001b[39;00m \u001b[38;5;28;01mimport\u001b[39;00m geometric \u001b[38;5;28;01mas\u001b[39;00m og\n\u001b[1;32m      4\u001b[0m \u001b[38;5;28;01mimport\u001b[39;00m \u001b[38;5;21;01mmath\u001b[39;00m\n",
      "File \u001b[0;32m/usr/lib/python3/dist-packages/ompl/base/__init__.py:2\u001b[0m\n\u001b[1;32m      1\u001b[0m \u001b[38;5;28;01mfrom\u001b[39;00m \u001b[38;5;21;01mompl\u001b[39;00m \u001b[38;5;28;01mimport\u001b[39;00m util\n\u001b[0;32m----> 2\u001b[0m \u001b[38;5;28;01mfrom\u001b[39;00m \u001b[38;5;21;01mompl\u001b[39;00m\u001b[38;5;21;01m.\u001b[39;00m\u001b[38;5;21;01mbase\u001b[39;00m\u001b[38;5;21;01m.\u001b[39;00m\u001b[38;5;21;01m_base\u001b[39;00m \u001b[38;5;28;01mimport\u001b[39;00m \u001b[38;5;241m*\u001b[39m\n",
      "\u001b[0;31mModuleNotFoundError\u001b[0m: No module named 'ompl.base._base'"
     ]
    }
   ],
   "source": [
    "import pybullet as p\n",
    "import numpy as np\n",
    "import json\n",
    "import open3d as o3d\n",
    "import matplotlib.pyplot as plt\n",
    "from mpl_toolkits.mplot3d import Axes3D\n",
    "import sys\n",
    "\n",
    "sys.path.append(\"../\")\n",
    "from env.ycb_scene import SimulatedYCBEnv\n",
    "from utils.utils import *\n",
    "from utils.planner import GraspPlanner"
   ]
  },
  {
   "cell_type": "code",
   "execution_count": 2,
   "id": "3cb94237",
   "metadata": {},
   "outputs": [
    {
     "name": "stdout",
     "output_type": "stream",
     "text": [
      "/home/ros/TM5_900_pybullet/env/models\n",
      ">>>> target name: 006_mustard_bottle\n"
     ]
    }
   ],
   "source": [
    "'''\n",
    "get data file name in json file and load mesh in pybullet\n",
    "then reset robot and object position\n",
    "'''\n",
    "\n",
    "file = os.path.join(\"../object_index\", 'ycb_large.json')\n",
    "with open(file) as f: file_dir = json.load(f)\n",
    "file_dir = file_dir['test']\n",
    "file_dir = [f[:-5] for f in file_dir]\n",
    "test_file_dir = list(set(file_dir))\n",
    "\n",
    "env = SimulatedYCBEnv()\n",
    "env._load_index_objs(test_file_dir)\n",
    "state = env.reset(save=False, enforce_face_target=True)"
   ]
  },
  {
   "cell_type": "markdown",
   "id": "fc5d24ba",
   "metadata": {},
   "source": [
    "## Get robot status by API in env"
   ]
  },
  {
   "cell_type": "code",
   "execution_count": 3,
   "id": "13300311",
   "metadata": {},
   "outputs": [
    {
     "name": "stdout",
     "output_type": "stream",
     "text": [
      "Position with quaternions:\n",
      " ((-0.6928049921989441, -0.8928982019424438, -0.8886162042617798), (0.6073547005653381, 0.742870032787323, 0.2180200219154358, 0.1781340092420578))\n",
      "Position with SE(3) matrix:\n",
      " [[-1.98777143e-01  8.24697591e-01  5.29491766e-01 -6.92804992e-01]\n",
      " [ 9.80044702e-01  1.67175136e-01  1.07540018e-01 -8.92898202e-01]\n",
      " [ 1.70135671e-04  5.40302098e-01 -8.41471101e-01 -8.88616204e-01]\n",
      " [ 0.00000000e+00  0.00000000e+00  0.00000000e+00  1.00000000e+00]]\n"
     ]
    }
   ],
   "source": [
    "# Reset joint position\n",
    "env._panda.reset()\n",
    "\n",
    "# Get current status of end effector, specify \"mat\" argument to switch data expression\n",
    "robot_pos = env._get_ef_pose()\n",
    "robot_pos_mat = env._get_ef_pose(mat=True)\n",
    "print(f\"Position with quaternions:\\n {robot_pos}\\nPosition with SE(3) matrix:\\n {robot_pos_mat}\")"
   ]
  },
  {
   "cell_type": "markdown",
   "id": "774ce06d",
   "metadata": {},
   "source": [
    "## Apply OMPL path planner with pre-define grasp pose"
   ]
  },
  {
   "cell_type": "code",
   "execution_count": 4,
   "id": "5bf02cd6",
   "metadata": {},
   "outputs": [],
   "source": [
    "planner = GraspPlanner()"
   ]
  },
  {
   "cell_type": "code",
   "execution_count": 5,
   "id": "3ee29019",
   "metadata": {},
   "outputs": [],
   "source": [
    "def expert_plan(goal_pose, world=False, visual=False):\n",
    "    if world:\n",
    "        pos, orn = env._get_ef_pose()\n",
    "        ef_pose_list = [*pos, *orn]\n",
    "    else:\n",
    "        ef_pose_list = [0, 0, 0, 0, 0, 0, 1]\n",
    "    goal_pos = [*goal_pose[:3], *ros_quat(goal_pose[3:])]\n",
    "\n",
    "    solver = planner.plan(ef_pose_list, goal_pos)\n",
    "    if visual:\n",
    "        path_visulization(solver)\n",
    "    path = solver.getSolutionPath().getStates()\n",
    "    planer_path = []\n",
    "    for i in range(len(path)):\n",
    "        waypoint = path[i]\n",
    "        rot = waypoint.rotation()\n",
    "        action = [waypoint.getX(), waypoint.getY(), waypoint.getZ(), rot.w, rot.x, rot.y, rot.z]\n",
    "        planer_path.append(action)\n",
    "\n",
    "    return planer_path"
   ]
  },
  {
   "cell_type": "code",
   "execution_count": 6,
   "id": "b1ea51f6",
   "metadata": {},
   "outputs": [],
   "source": [
    "def path_visulization(ss):\n",
    "    fig = plt.figure()\n",
    "    ax = plt.axes(projection='3d')\n",
    "    x = []\n",
    "    y = []\n",
    "    z = []\n",
    "    for i in range(len(ss.getSolutionPath().getStates())):\n",
    "        state = ss.getSolutionPath().getStates()[i]\n",
    "        x.append(state.getX())\n",
    "        y.append(state.getY())\n",
    "        z.append(state.getZ())\n",
    "    ax.plot(x, y, z, color='gray', label='Curve')\n",
    "\n",
    "    ax.scatter(x, y, z, c=z, cmap='jet', label='Points')\n",
    "    plt.show()"
   ]
  },
  {
   "cell_type": "markdown",
   "id": "df800634",
   "metadata": {},
   "source": [
    "### Set a pre-define coordinate relative to world/ef frame"
   ]
  },
  {
   "cell_type": "code",
   "execution_count": 7,
   "id": "2d4efae4",
   "metadata": {},
   "outputs": [
    {
     "name": "stdout",
     "output_type": "stream",
     "text": [
      "world frame:\n",
      " [[ 6.72313844e-01 -7.29086062e-01 -1.28170240e-01 -2.96828072e-01]\n",
      " [-7.40266125e-01 -6.62253352e-01 -1.15873041e-01 -7.10840326e-01]\n",
      " [-3.99752374e-04  1.72783136e-01 -9.84959810e-01 -1.08543168e+00]\n",
      " [ 0.00000000e+00  0.00000000e+00  0.00000000e+00  1.00000000e+00]]\n",
      "relative to ef: \n",
      " [ 0.09968021  0.25065695  0.39485956  0.26015468  0.05246188 -0.35071809\n",
      "  0.89808915]\n"
     ]
    }
   ],
   "source": [
    "env._panda.reset()\n",
    "\n",
    "# A position in SE(3) relative to camera frame\n",
    "desired_pt = np.array([[ 0.85913459, 0.50408285, 0.08825102, -0.09968021],\n",
    "                      [-0.43048553, 0.61863272, 0.65724863, -0.13205695],\n",
    "                      [ 0.27671279, -0.60265582, 0.74848914, 0.41399397],\n",
    "                      [ 0. , 0. , 0. , 1. ]])\n",
    "\n",
    "# Convert SE(3) to postion with quaternions [x, y, z, w, x, y, z]\n",
    "target = pack_pose(desired_pt)\n",
    "\n",
    "# Transform position from camera frame to flange\n",
    "action = env.transform_pose_from_camera(target)\n",
    "# SE(3) matrix relative to world frame\n",
    "action_world = env._get_ef_pose(mat=True).dot(unpack_pose(action))\n",
    "\n",
    "print(f\"world frame:\\n {action_world}\\nrelative to ef: \\n {action}\")"
   ]
  },
  {
   "cell_type": "markdown",
   "id": "1006cdd2",
   "metadata": {},
   "source": [
    "### Plan with position relative to end effector frame"
   ]
  },
  {
   "cell_type": "code",
   "execution_count": 8,
   "id": "5c84dd88",
   "metadata": {
    "scrolled": true
   },
   "outputs": [
    {
     "name": "stdout",
     "output_type": "stream",
     "text": [
      "startThreads creating 1 threads.\n",
      "starting thread 0\n",
      "started thread 0 \n",
      "argc=2\n",
      "argv[0] = --unused\n",
      "argv[1] = --start_demo_name=Physics Server\n",
      "ExampleBrowserThreadFunc started\n",
      "X11 functions dynamically loaded using dlopen/dlsym OK!\n",
      "X11 functions dynamically loaded using dlopen/dlsym OK!\n",
      "Creating context\n",
      "Created GL 3.3 context\n",
      "Direct GLX rendering context obtained\n",
      "Making context current\n",
      "GL_VENDOR=NVIDIA Corporation\n",
      "GL_RENDERER=NVIDIA GeForce RTX 2080 Ti/PCIe/SSE2\n",
      "GL_VERSION=3.3.0 NVIDIA 465.19.01\n",
      "GL_SHADING_LANGUAGE_VERSION=3.30 NVIDIA via Cg compiler\n",
      "pthread_getconcurrency()=0\n",
      "Version = 3.3.0 NVIDIA 465.19.01\n",
      "Vendor = NVIDIA Corporation\n",
      "Renderer = NVIDIA GeForce RTX 2080 Ti/PCIe/SSE2\n",
      "b3Printf: Selected demo: Physics Server\n",
      "startThreads creating 1 threads.\n",
      "starting thread 0\n",
      "started thread 0 \n",
      "MotionThreadFunc thread started\n",
      "numActiveThreads = 0\n",
      "stopping threads\n",
      "Thread with taskId 0 exiting\n",
      "Thread TERMINATED\n",
      "destroy semaphore\n",
      "semaphore destroyed\n",
      "destroy main semaphore\n",
      "main semaphore destroyed\n",
      "finished\n",
      "numActiveThreads = 0\n",
      "btShutDownExampleBrowser stopping threads\n",
      "Thread with taskId 0 exiting\n",
      "Thread TERMINATED\n",
      "destroy semaphore\n",
      "semaphore destroyed\n",
      "destroy main semaphore\n",
      "main semaphore destroyed\n",
      "startThreads creating 1 threads.\n",
      "starting thread 0\n",
      "started thread 0 \n",
      "argc=2\n",
      "argv[0] = --unused\n",
      "argv[1] = --start_demo_name=Physics Server\n",
      "ExampleBrowserThreadFunc started\n",
      "X11 functions dynamically loaded using dlopen/dlsym OK!\n",
      "X11 functions dynamically loaded using dlopen/dlsym OK!\n",
      "Creating context\n",
      "Created GL 3.3 context\n",
      "Direct GLX rendering context obtained\n",
      "Making context current\n",
      "GL_VENDOR=NVIDIA Corporation\n",
      "GL_RENDERER=NVIDIA GeForce RTX 2080 Ti/PCIe/SSE2\n",
      "GL_VERSION=3.3.0 NVIDIA 465.19.01\n",
      "GL_SHADING_LANGUAGE_VERSION=3.30 NVIDIA via Cg compiler\n",
      "pthread_getconcurrency()=0\n",
      "Version = 3.3.0 NVIDIA 465.19.01\n",
      "Vendor = NVIDIA Corporation\n",
      "Renderer = NVIDIA GeForce RTX 2080 Ti/PCIe/SSE2\n",
      "b3Printf: Selected demo: Physics Server\n",
      "startThreads creating 1 threads.\n",
      "starting thread 0\n",
      "started thread 0 \n",
      "MotionThreadFunc thread started\n",
      "ven = NVIDIA Corporation\n",
      "ven = NVIDIA Corporation\n",
      "b3Printf: b3Warning[examples/Importers/ImportURDFDemo/BulletUrdfImporter.cpp,126]:\n",
      "\n",
      "b3Printf: No inertial data for link, using mass=1, localinertiadiagonal = 1,1,1, identity local inertial frame\n",
      "b3Printf: b3Warning[examples/Importers/ImportURDFDemo/BulletUrdfImporter.cpp,126]:\n",
      "\n",
      "b3Printf: base\n",
      "b3Printf: b3Warning[examples/Importers/ImportURDFDemo/BulletUrdfImporter.cpp,126]:\n",
      "\n",
      "b3Printf: No inertial data for link, using mass=1, localinertiadiagonal = 1,1,1, identity local inertial frame\n",
      "b3Printf: b3Warning[examples/Importers/ImportURDFDemo/BulletUrdfImporter.cpp,126]:\n",
      "\n",
      "b3Printf: flange_link\n",
      "Debug:   RRTstar: Planner range detected to be 7.242362\n",
      "Info:    RRTstar: Started planning with 1 states. Seeking a solution better than 0.00000.\n",
      "Info:    RRTstar: Initial k-nearest value of 310\n",
      "Info:    RRTstar: Found an initial solution with a cost of 1.79 in 17 iterations (18 vertices in the graph)\n",
      "RRTstar found solution of path length 1.7858 with an optimization objective value of 1.7858Info:    RRTstar: Created 719 new states. Checked 258840 rewire options. 1 goal states in tree. Final solution cost 1.786\n",
      "\n",
      "Interpolate Path length to 20\n"
     ]
    }
   ],
   "source": [
    "env._panda.reset()\n",
    "\n",
    "# Get path list by GraspPlanner\n",
    "plan = expert_plan(action)\n",
    "# Get ef pose at beginning as initial pose\n",
    "init_pos = env._get_ef_pose(mat=True)\n",
    "for i in range(len(plan)):\n",
    "    # Get current ef pose\n",
    "    ef_pos = env._get_ef_pose(mat=True)\n",
    "    # Transform path waypoint from initial pose based to current pose based\n",
    "    next_pos_mat = np.dot(se3_inverse(ef_pos), init_pos.dot(unpack_pose(plan[i])))\n",
    "    next_pos = pack_pose(next_pos_mat)\n",
    "    env.step([*next_pos[:3], *quat2euler(next_pos[3:])], repeat=200)"
   ]
  },
  {
   "cell_type": "markdown",
   "id": "382620af",
   "metadata": {},
   "source": [
    "### Plan with position relative to world frame"
   ]
  },
  {
   "cell_type": "code",
   "execution_count": 9,
   "id": "bca988e1",
   "metadata": {},
   "outputs": [
    {
     "name": "stdout",
     "output_type": "stream",
     "text": [
      "Debug:   RRTstar: Planner range detected to be 7.242362\n",
      "Info:    RRTstar: Started planning with 1 states. Seeking a solution better than 0.00000.\n",
      "Info:    RRTstar: Initial k-nearest value of 310\n",
      "Info:    RRTstar: Found an initial solution with a cost of 1.79 in 7 iterations (8 vertices in the graph)\n",
      "RRTstar found solution of path length 1.7858 with an optimization objective value of 1.7858\n",
      "Interpolate Path length to 20\n",
      "Info:    RRTstar: Created 724 new states. Checked 262450 rewire options. 1 goal states in tree. Final solution cost 1.786\n"
     ]
    },
    {
     "data": {
      "image/png": "[encoded data removed]",
      "text/plain": [
       "<Figure size 432x288 with 1 Axes>"
      ]
     },
     "metadata": {
      "needs_background": "light"
     },
     "output_type": "display_data"
    }
   ],
   "source": [
    "env._panda.reset()\n",
    "# Get path list by GraspPlanner\n",
    "plan = expert_plan(pack_pose(action_world), world=True, visual=True)\n",
    "for i in range(len(plan)):\n",
    "    # Set Target position with world frame based coordinate\n",
    "    next_pos = plan[i]\n",
    "    jointPoses = env._panda.solveInverseKinematics(next_pos[:3], ros_quat(next_pos[3:]))\n",
    "    jointPoses[6] = 0\n",
    "    jointPoses = jointPoses[:7].copy()\n",
    "    obs = env.step(jointPoses, config=True, repeat=200)[0]"
   ]
  }
 ],
 "metadata": {
  "kernelspec": {
   "display_name": "Python 3 (ipykernel)",
   "language": "python",
   "name": "python3"
  },
  "language_info": {
   "codemirror_mode": {
    "name": "ipython",
    "version": 3
   },
   "file_extension": ".py",
   "mimetype": "text/x-python",
   "name": "python",
   "nbconvert_exporter": "python",
   "pygments_lexer": "ipython3",
   "version": "3.8.10"
  }
 },
 "nbformat": 4,
 "nbformat_minor": 5
}
